{
  "nbformat": 4,
  "nbformat_minor": 0,
  "metadata": {
    "colab": {
      "name": "Untitled0.ipynb",
      "provenance": [],
      "history_visible": true
    },
    "kernelspec": {
      "name": "python3",
      "display_name": "Python 3"
    },
    "language_info": {
      "name": "python"
    }
  },
  "cells": [
    {
      "cell_type": "code",
      "execution_count": 41,
      "metadata": {
        "colab": {
          "base_uri": "https://localhost:8080/"
        },
        "id": "3rx7O0NUZpb9",
        "outputId": "58dcf80f-27b9-4a70-ed6c-1c29649f58d0"
      },
      "outputs": [
        {
          "output_type": "stream",
          "name": "stdout",
          "text": [
            "Guess a number between 0 to 9 4\n",
            "Try Again\n",
            "Guess a number between 0 to 9 6\n",
            "Try Again\n",
            "Guess a number between 0 to 9 8\n",
            "Try Again\n",
            "Guess a number between 0 to 9 2\n",
            "Congrats! You guessed the right number\n"
          ]
        }
      ],
      "source": [
        "import random\n",
        "number = random.randint(1,98)\n",
        "chances = 0\n",
        "while chances < 5: \n",
        "    guess = int(input(\"Guess a number between 0 to 9 \"))\n",
        "    chances = chances+1\n",
        "    if guess == number: \n",
        "        print(\"Congrats! You guessed the right number\")\n",
        "        break\n",
        "    else:\n",
        "        print(\"Try Again\")\n",
        "    \n",
        "if not chances < 5:\n",
        "    print(\"You are out of chances. The correct number was \",number)"
      ]
    }
  ]
}